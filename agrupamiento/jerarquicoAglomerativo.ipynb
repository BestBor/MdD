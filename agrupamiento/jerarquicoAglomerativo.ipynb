{
 "cells": [
  {
   "cell_type": "code",
   "execution_count": null,
   "id": "df65013e-fb2f-4f09-a181-7121d0e66561",
   "metadata": {},
   "outputs": [],
   "source": [
    "import pandas as pd\n",
    "import numpy as np\n",
    "from sklearn.preprocessing import StandardScaler\n",
    "from sklearn.cluster import AgglomerativeClustering\n",
    "from sklearn.metrics import silhouette_score, calinski_harabasz_score, davies_bouldin_score\n",
    "from sklearn.decomposition import PCA\n",
    "import matplotlib.pyplot as plt\n",
    "import seaborn as sns"
   ]
  },
  {
   "cell_type": "code",
   "execution_count": null,
   "id": "8434a442-9553-4ac3-af47-2e772672a031",
   "metadata": {},
   "outputs": [],
   "source": [
    "df = pd.read_csv('../TWO_CENTURIES_ANALYSIS_CLEAN_WITH_PACE.csv')"
   ]
  },
  {
   "cell_type": "code",
   "execution_count": null,
   "id": "d6669cd1-14a8-4efd-b922-f517533cea79",
   "metadata": {},
   "outputs": [],
   "source": [
    "variables = [\n",
    "    'Distance_km',\n",
    "    'Avg_speed_kmh',\n",
    "    'Athlete age',\n",
    "    'Time_hours',\n",
    "    'Speed_calc_kmh',\n",
    "    'Speed_diff',\n",
    "    'Pace_min_per_km'\n",
    "]\n",
    "\n",
    "# Usaremos 3 semillas para generar muestras distintas\n",
    "semillas = [42, 99, 123]\n",
    "resultados = []\n",
    "\n",
    "# Preprocesamiento: seleccionar variables y escalar\n",
    "def preparar_datos(df_sample):\n",
    "    df_sel = df_sample[variables].dropna()\n",
    "    scaler = StandardScaler()\n",
    "    X_scaled = scaler.fit_transform(df_sel)\n",
    "    return X_scaled, df_sel\n",
    "\n",
    "# Aplicación de agrupamiento jerárquico aglomerativo y métricas\n",
    "def aplicar_jerarquico(X, n_clusters=4, linkage='ward'):\n",
    "    modelo = AgglomerativeClustering(n_clusters=n_clusters, linkage=linkage)\n",
    "    etiquetas = modelo.fit_predict(X)\n",
    "    sil = silhouette_score(X, etiquetas)\n",
    "    calinski = calinski_harabasz_score(X, etiquetas)\n",
    "    davies = davies_bouldin_score(X, etiquetas)\n",
    "    return etiquetas, sil, calinski, davies\n",
    "\n",
    "# Reducción a 2 dimensiones y visualización de los clusters\n",
    "def graficar_clusters(X, etiquetas, titulo):\n",
    "    pca = PCA(n_components=2)\n",
    "    X_pca = pca.fit_transform(X)\n",
    "    plt.figure(figsize=(6, 5))\n",
    "    sns.scatterplot(x=X_pca[:, 0], y=X_pca[:, 1], hue=etiquetas, palette='tab10', s=10)\n",
    "    plt.title(titulo)\n",
    "    plt.xlabel(\"PCA 1\")\n",
    "    plt.ylabel(\"PCA 2\")\n",
    "    plt.legend(title=\"Cluster\", loc=\"best\", bbox_to_anchor=(1, 1))\n",
    "    plt.tight_layout()\n",
    "    plt.show()\n",
    "\n",
    "# Proceso para las 3 muestras\n",
    "for i, seed in enumerate(semillas):\n",
    "    print(f\"Procesando muestra {i+1} con semilla {seed}...\")\n",
    "    df_muestra = df.sample(n=50000, random_state=seed)\n",
    "    X_scaled, df_sel = preparar_datos(df_muestra)\n",
    "    etiquetas, sil, calinski, davies = aplicar_jerarquico(X_scaled, n_clusters=4, linkage='ward')\n",
    "    resultados.append({\n",
    "        'Muestra': i+1,\n",
    "        'Silhouette': sil,\n",
    "        'Calinski-Harabasz': calinski,\n",
    "        'Davies-Bouldin': davies\n",
    "    })\n",
    "    graficar_clusters(X_scaled, etiquetas, f\"Jerárquico (ward) - Muestra {i+1}\")\n",
    "\n",
    "# Mostrar resultados comparativos\n",
    "pd.DataFrame(resultados)"
   ]
  }
 ],
 "metadata": {
  "kernelspec": {
   "display_name": "Python 3 (ipykernel)",
   "language": "python",
   "name": "python3"
  },
  "language_info": {
   "codemirror_mode": {
    "name": "ipython",
    "version": 3
   },
   "file_extension": ".py",
   "mimetype": "text/x-python",
   "name": "python",
   "nbconvert_exporter": "python",
   "pygments_lexer": "ipython3",
   "version": "3.12.7"
  }
 },
 "nbformat": 4,
 "nbformat_minor": 5
}
